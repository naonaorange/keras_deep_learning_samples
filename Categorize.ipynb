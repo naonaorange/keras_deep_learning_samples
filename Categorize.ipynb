{
 "cells": [
  {
   "cell_type": "code",
   "execution_count": 1,
   "metadata": {},
   "outputs": [
    {
     "name": "stderr",
     "output_type": "stream",
     "text": [
      "/home/nao/python/tf_ws/lib/python3.5/site-packages/h5py/__init__.py:36: FutureWarning: Conversion of the second argument of issubdtype from `float` to `np.floating` is deprecated. In future, it will be treated as `np.float64 == np.dtype(float).type`.\n",
      "  from ._conv import register_converters as _register_converters\n",
      "Using TensorFlow backend.\n"
     ]
    },
    {
     "name": "stdout",
     "output_type": "stream",
     "text": [
      "ballpoint: 64%\n",
      "fountain_pen: 23%\n",
      "microphone: 4%\n"
     ]
    }
   ],
   "source": [
    "# 必要なモジュールをインポート\n",
    "from keras.applications.resnet50 import ResNet50\n",
    "from keras.preprocessing import image\n",
    "from keras.applications.resnet50 import preprocess_input, decode_predictions\n",
    "import numpy as np\n",
    "import h5py\n",
    " \n",
    "# ResNet50のモデルをImageNet用の重みで取得\n",
    "model = ResNet50(weights='imagenet')\n",
    " \n",
    "# 画像をロード\n",
    "img_path = 'data/ResNet50/ballpoint.jpg'\n",
    "img = image.load_img(img_path, target_size=(224, 224))\n",
    " \n",
    "# モデルに読み込める用に前処理\n",
    "x = image.img_to_array(img)\n",
    "x = np.expand_dims(x, axis=0)\n",
    "x = preprocess_input(x)\n",
    " \n",
    "# 推論\n",
    "preds = model.predict(x)\n",
    " \n",
    "# 結果を表示\n",
    "for name, description, score in decode_predictions(preds, top=3)[0]:\n",
    "    print(description + \": \" + str(int(score * 100)) + \"%\")"
   ]
  },
  {
   "cell_type": "code",
   "execution_count": null,
   "metadata": {},
   "outputs": [],
   "source": []
  }
 ],
 "metadata": {
  "kernelspec": {
   "display_name": "Python 3",
   "language": "python",
   "name": "python3"
  },
  "language_info": {
   "codemirror_mode": {
    "name": "ipython",
    "version": 3
   },
   "file_extension": ".py",
   "mimetype": "text/x-python",
   "name": "python",
   "nbconvert_exporter": "python",
   "pygments_lexer": "ipython3",
   "version": "3.5.2"
  }
 },
 "nbformat": 4,
 "nbformat_minor": 2
}
